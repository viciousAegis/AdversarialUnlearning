{
 "cells": [
  {
   "cell_type": "code",
   "execution_count": 1,
   "metadata": {},
   "outputs": [
    {
     "name": "stderr",
     "output_type": "stream",
     "text": [
      "/Users/akshitsinha3/Library/CloudStorage/OneDrive-InternationalInstituteofInformationTechnology/Projects/AdversarialUnlearning/.venv/lib/python3.10/site-packages/tqdm/auto.py:21: TqdmWarning: IProgress not found. Please update jupyter and ipywidgets. See https://ipywidgets.readthedocs.io/en/stable/user_install.html\n",
      "  from .autonotebook import tqdm as notebook_tqdm\n"
     ]
    }
   ],
   "source": [
    "from torch_geometric.datasets import TUDataset\n",
    "import networkx as nx\n",
    "from torch_geometric.utils import to_networkx\n",
    "from torch_geometric.nn import global_mean_pool\n",
    "from torch_geometric.loader import DataLoader\n",
    "from torch_geometric.utils import k_hop_subgraph\n",
    "from torch import nn\n",
    "from torch_geometric.nn import GCNConv\n",
    "import torch\n",
    "import matplotlib.pyplot as plt"
   ]
  },
  {
   "cell_type": "code",
   "execution_count": 119,
   "metadata": {},
   "outputs": [],
   "source": [
    "seed=24\n",
    "torch.manual_seed(seed)\n",
    "torch.cuda.manual_seed(seed)"
   ]
  },
  {
   "cell_type": "code",
   "execution_count": 2,
   "metadata": {},
   "outputs": [
    {
     "name": "stderr",
     "output_type": "stream",
     "text": [
      "Downloading https://www.chrsmrrs.com/graphkerneldatasets/MUTAG.zip\n"
     ]
    },
    {
     "ename": "TypeError",
     "evalue": "LocalFileSystem.mv() takes 3 positional arguments but 4 were given",
     "output_type": "error",
     "traceback": [
      "\u001b[0;31m---------------------------------------------------------------------------\u001b[0m",
      "\u001b[0;31mTypeError\u001b[0m                                 Traceback (most recent call last)",
      "Cell \u001b[0;32mIn[2], line 1\u001b[0m\n\u001b[0;32m----> 1\u001b[0m dataset\u001b[38;5;241m=\u001b[39m \u001b[43mTUDataset\u001b[49m\u001b[43m(\u001b[49m\u001b[43mroot\u001b[49m\u001b[38;5;241;43m=\u001b[39;49m\u001b[38;5;124;43m\"\u001b[39;49m\u001b[38;5;124;43m./\u001b[39;49m\u001b[38;5;124;43m\"\u001b[39;49m\u001b[43m,\u001b[49m\u001b[43m \u001b[49m\u001b[43mname\u001b[49m\u001b[38;5;241;43m=\u001b[39;49m\u001b[38;5;124;43m\"\u001b[39;49m\u001b[38;5;124;43mMUTAG\u001b[39;49m\u001b[38;5;124;43m\"\u001b[39;49m\u001b[43m)\u001b[49m\u001b[38;5;241m.\u001b[39mshuffle()\n\u001b[1;32m      2\u001b[0m train_set\u001b[38;5;241m=\u001b[39m dataset[:\u001b[38;5;241m150\u001b[39m]\n\u001b[1;32m      3\u001b[0m test_set\u001b[38;5;241m=\u001b[39m dataset[\u001b[38;5;241m150\u001b[39m:]\n",
      "File \u001b[0;32m~/Library/CloudStorage/OneDrive-InternationalInstituteofInformationTechnology/Projects/AdversarialUnlearning/.venv/lib/python3.10/site-packages/torch_geometric/datasets/tu_dataset.py:129\u001b[0m, in \u001b[0;36mTUDataset.__init__\u001b[0;34m(self, root, name, transform, pre_transform, pre_filter, force_reload, use_node_attr, use_edge_attr, cleaned)\u001b[0m\n\u001b[1;32m    127\u001b[0m \u001b[38;5;28mself\u001b[39m\u001b[38;5;241m.\u001b[39mname \u001b[38;5;241m=\u001b[39m name\n\u001b[1;32m    128\u001b[0m \u001b[38;5;28mself\u001b[39m\u001b[38;5;241m.\u001b[39mcleaned \u001b[38;5;241m=\u001b[39m cleaned\n\u001b[0;32m--> 129\u001b[0m \u001b[38;5;28;43msuper\u001b[39;49m\u001b[43m(\u001b[49m\u001b[43m)\u001b[49m\u001b[38;5;241;43m.\u001b[39;49m\u001b[38;5;21;43m__init__\u001b[39;49m\u001b[43m(\u001b[49m\u001b[43mroot\u001b[49m\u001b[43m,\u001b[49m\u001b[43m \u001b[49m\u001b[43mtransform\u001b[49m\u001b[43m,\u001b[49m\u001b[43m \u001b[49m\u001b[43mpre_transform\u001b[49m\u001b[43m,\u001b[49m\u001b[43m \u001b[49m\u001b[43mpre_filter\u001b[49m\u001b[43m,\u001b[49m\n\u001b[1;32m    130\u001b[0m \u001b[43m                 \u001b[49m\u001b[43mforce_reload\u001b[49m\u001b[38;5;241;43m=\u001b[39;49m\u001b[43mforce_reload\u001b[49m\u001b[43m)\u001b[49m\n\u001b[1;32m    132\u001b[0m out \u001b[38;5;241m=\u001b[39m fs\u001b[38;5;241m.\u001b[39mtorch_load(\u001b[38;5;28mself\u001b[39m\u001b[38;5;241m.\u001b[39mprocessed_paths[\u001b[38;5;241m0\u001b[39m])\n\u001b[1;32m    133\u001b[0m \u001b[38;5;28;01mif\u001b[39;00m \u001b[38;5;129;01mnot\u001b[39;00m \u001b[38;5;28misinstance\u001b[39m(out, \u001b[38;5;28mtuple\u001b[39m) \u001b[38;5;129;01mor\u001b[39;00m \u001b[38;5;28mlen\u001b[39m(out) \u001b[38;5;241m<\u001b[39m \u001b[38;5;241m3\u001b[39m:\n",
      "File \u001b[0;32m~/Library/CloudStorage/OneDrive-InternationalInstituteofInformationTechnology/Projects/AdversarialUnlearning/.venv/lib/python3.10/site-packages/torch_geometric/data/in_memory_dataset.py:81\u001b[0m, in \u001b[0;36mInMemoryDataset.__init__\u001b[0;34m(self, root, transform, pre_transform, pre_filter, log, force_reload)\u001b[0m\n\u001b[1;32m     72\u001b[0m \u001b[38;5;28;01mdef\u001b[39;00m \u001b[38;5;21m__init__\u001b[39m(\n\u001b[1;32m     73\u001b[0m     \u001b[38;5;28mself\u001b[39m,\n\u001b[1;32m     74\u001b[0m     root: Optional[\u001b[38;5;28mstr\u001b[39m] \u001b[38;5;241m=\u001b[39m \u001b[38;5;28;01mNone\u001b[39;00m,\n\u001b[0;32m   (...)\u001b[0m\n\u001b[1;32m     79\u001b[0m     force_reload: \u001b[38;5;28mbool\u001b[39m \u001b[38;5;241m=\u001b[39m \u001b[38;5;28;01mFalse\u001b[39;00m,\n\u001b[1;32m     80\u001b[0m ) \u001b[38;5;241m-\u001b[39m\u001b[38;5;241m>\u001b[39m \u001b[38;5;28;01mNone\u001b[39;00m:\n\u001b[0;32m---> 81\u001b[0m     \u001b[38;5;28;43msuper\u001b[39;49m\u001b[43m(\u001b[49m\u001b[43m)\u001b[49m\u001b[38;5;241;43m.\u001b[39;49m\u001b[38;5;21;43m__init__\u001b[39;49m\u001b[43m(\u001b[49m\u001b[43mroot\u001b[49m\u001b[43m,\u001b[49m\u001b[43m \u001b[49m\u001b[43mtransform\u001b[49m\u001b[43m,\u001b[49m\u001b[43m \u001b[49m\u001b[43mpre_transform\u001b[49m\u001b[43m,\u001b[49m\u001b[43m \u001b[49m\u001b[43mpre_filter\u001b[49m\u001b[43m,\u001b[49m\u001b[43m \u001b[49m\u001b[43mlog\u001b[49m\u001b[43m,\u001b[49m\n\u001b[1;32m     82\u001b[0m \u001b[43m                     \u001b[49m\u001b[43mforce_reload\u001b[49m\u001b[43m)\u001b[49m\n\u001b[1;32m     84\u001b[0m     \u001b[38;5;28mself\u001b[39m\u001b[38;5;241m.\u001b[39m_data: Optional[BaseData] \u001b[38;5;241m=\u001b[39m \u001b[38;5;28;01mNone\u001b[39;00m\n\u001b[1;32m     85\u001b[0m     \u001b[38;5;28mself\u001b[39m\u001b[38;5;241m.\u001b[39mslices: Optional[Dict[\u001b[38;5;28mstr\u001b[39m, Tensor]] \u001b[38;5;241m=\u001b[39m \u001b[38;5;28;01mNone\u001b[39;00m\n",
      "File \u001b[0;32m~/Library/CloudStorage/OneDrive-InternationalInstituteofInformationTechnology/Projects/AdversarialUnlearning/.venv/lib/python3.10/site-packages/torch_geometric/data/dataset.py:112\u001b[0m, in \u001b[0;36mDataset.__init__\u001b[0;34m(self, root, transform, pre_transform, pre_filter, log, force_reload)\u001b[0m\n\u001b[1;32m    109\u001b[0m \u001b[38;5;28mself\u001b[39m\u001b[38;5;241m.\u001b[39mforce_reload \u001b[38;5;241m=\u001b[39m force_reload\n\u001b[1;32m    111\u001b[0m \u001b[38;5;28;01mif\u001b[39;00m \u001b[38;5;28mself\u001b[39m\u001b[38;5;241m.\u001b[39mhas_download:\n\u001b[0;32m--> 112\u001b[0m     \u001b[38;5;28;43mself\u001b[39;49m\u001b[38;5;241;43m.\u001b[39;49m\u001b[43m_download\u001b[49m\u001b[43m(\u001b[49m\u001b[43m)\u001b[49m\n\u001b[1;32m    114\u001b[0m \u001b[38;5;28;01mif\u001b[39;00m \u001b[38;5;28mself\u001b[39m\u001b[38;5;241m.\u001b[39mhas_process:\n\u001b[1;32m    115\u001b[0m     \u001b[38;5;28mself\u001b[39m\u001b[38;5;241m.\u001b[39m_process()\n",
      "File \u001b[0;32m~/Library/CloudStorage/OneDrive-InternationalInstituteofInformationTechnology/Projects/AdversarialUnlearning/.venv/lib/python3.10/site-packages/torch_geometric/data/dataset.py:229\u001b[0m, in \u001b[0;36mDataset._download\u001b[0;34m(self)\u001b[0m\n\u001b[1;32m    226\u001b[0m     \u001b[38;5;28;01mreturn\u001b[39;00m\n\u001b[1;32m    228\u001b[0m fs\u001b[38;5;241m.\u001b[39mmakedirs(\u001b[38;5;28mself\u001b[39m\u001b[38;5;241m.\u001b[39mraw_dir, exist_ok\u001b[38;5;241m=\u001b[39m\u001b[38;5;28;01mTrue\u001b[39;00m)\n\u001b[0;32m--> 229\u001b[0m \u001b[38;5;28;43mself\u001b[39;49m\u001b[38;5;241;43m.\u001b[39;49m\u001b[43mdownload\u001b[49m\u001b[43m(\u001b[49m\u001b[43m)\u001b[49m\n",
      "File \u001b[0;32m~/Library/CloudStorage/OneDrive-InternationalInstituteofInformationTechnology/Projects/AdversarialUnlearning/.venv/lib/python3.10/site-packages/torch_geometric/datasets/tu_dataset.py:199\u001b[0m, in \u001b[0;36mTUDataset.download\u001b[0;34m(self)\u001b[0m\n\u001b[1;32m    197\u001b[0m fs\u001b[38;5;241m.\u001b[39mcp(\u001b[38;5;124mf\u001b[39m\u001b[38;5;124m'\u001b[39m\u001b[38;5;132;01m{\u001b[39;00murl\u001b[38;5;132;01m}\u001b[39;00m\u001b[38;5;124m/\u001b[39m\u001b[38;5;132;01m{\u001b[39;00m\u001b[38;5;28mself\u001b[39m\u001b[38;5;241m.\u001b[39mname\u001b[38;5;132;01m}\u001b[39;00m\u001b[38;5;124m.zip\u001b[39m\u001b[38;5;124m'\u001b[39m, \u001b[38;5;28mself\u001b[39m\u001b[38;5;241m.\u001b[39mraw_dir, extract\u001b[38;5;241m=\u001b[39m\u001b[38;5;28;01mTrue\u001b[39;00m)\n\u001b[1;32m    198\u001b[0m \u001b[38;5;28;01mfor\u001b[39;00m filename \u001b[38;5;129;01min\u001b[39;00m fs\u001b[38;5;241m.\u001b[39mls(osp\u001b[38;5;241m.\u001b[39mjoin(\u001b[38;5;28mself\u001b[39m\u001b[38;5;241m.\u001b[39mraw_dir, \u001b[38;5;28mself\u001b[39m\u001b[38;5;241m.\u001b[39mname)):\n\u001b[0;32m--> 199\u001b[0m     \u001b[43mfs\u001b[49m\u001b[38;5;241;43m.\u001b[39;49m\u001b[43mmv\u001b[49m\u001b[43m(\u001b[49m\u001b[43mfilename\u001b[49m\u001b[43m,\u001b[49m\u001b[43m \u001b[49m\u001b[43mosp\u001b[49m\u001b[38;5;241;43m.\u001b[39;49m\u001b[43mjoin\u001b[49m\u001b[43m(\u001b[49m\u001b[38;5;28;43mself\u001b[39;49m\u001b[38;5;241;43m.\u001b[39;49m\u001b[43mraw_dir\u001b[49m\u001b[43m,\u001b[49m\u001b[43m \u001b[49m\u001b[43mosp\u001b[49m\u001b[38;5;241;43m.\u001b[39;49m\u001b[43mbasename\u001b[49m\u001b[43m(\u001b[49m\u001b[43mfilename\u001b[49m\u001b[43m)\u001b[49m\u001b[43m)\u001b[49m\u001b[43m)\u001b[49m\n\u001b[1;32m    200\u001b[0m fs\u001b[38;5;241m.\u001b[39mrm(osp\u001b[38;5;241m.\u001b[39mjoin(\u001b[38;5;28mself\u001b[39m\u001b[38;5;241m.\u001b[39mraw_dir, \u001b[38;5;28mself\u001b[39m\u001b[38;5;241m.\u001b[39mname))\n",
      "File \u001b[0;32m~/Library/CloudStorage/OneDrive-InternationalInstituteofInformationTechnology/Projects/AdversarialUnlearning/.venv/lib/python3.10/site-packages/torch_geometric/io/fs.py:193\u001b[0m, in \u001b[0;36mmv\u001b[0;34m(path1, path2, recursive)\u001b[0m\n\u001b[1;32m    191\u001b[0m fs2 \u001b[38;5;241m=\u001b[39m get_fs(path2)\n\u001b[1;32m    192\u001b[0m \u001b[38;5;28;01massert\u001b[39;00m fs1\u001b[38;5;241m.\u001b[39mprotocol \u001b[38;5;241m==\u001b[39m fs2\u001b[38;5;241m.\u001b[39mprotocol\n\u001b[0;32m--> 193\u001b[0m \u001b[43mfs1\u001b[49m\u001b[38;5;241;43m.\u001b[39;49m\u001b[43mmv\u001b[49m\u001b[43m(\u001b[49m\u001b[43mpath1\u001b[49m\u001b[43m,\u001b[49m\u001b[43m \u001b[49m\u001b[43mpath2\u001b[49m\u001b[43m,\u001b[49m\u001b[43m \u001b[49m\u001b[43mrecursive\u001b[49m\u001b[43m)\u001b[49m\n",
      "\u001b[0;31mTypeError\u001b[0m: LocalFileSystem.mv() takes 3 positional arguments but 4 were given"
     ]
    }
   ],
   "source": [
    "dataset= TUDataset(root=\"./\", name=\"MUTAG\").shuffle()\n",
    "train_set= dataset[:150]\n",
    "test_set= dataset[150:]\n",
    "train_loader= DataLoader(train_set, 16)\n",
    "test_loader= DataLoader(test_set, 16)"
   ]
  },
  {
   "cell_type": "code",
   "execution_count": 3,
   "metadata": {},
   "outputs": [],
   "source": [
    "class GNN(nn.Module):\n",
    "    def __init__(self, num_features, hidden1, hidden2, num_classes):\n",
    "        super().__init__()\n",
    "        self.conv1 = GCNConv(num_features, hidden1)\n",
    "        self.conv2 = GCNConv(hidden1, hidden2)\n",
    "        self.linear = nn.Linear(hidden2, num_classes)\n",
    "        self.relu = nn.ReLU()\n",
    "\n",
    "    def forward(self, data):\n",
    "        x, adj = data.x, data.edge_index\n",
    "        #Graph Convolutions\n",
    "        x = self.conv1(x, adj)\n",
    "        x = self.relu(x)\n",
    "        x = self.conv2(x, adj)\n",
    "        x = self.relu(x)\n",
    "\n",
    "        #Aggregation Step\n",
    "        x = global_mean_pool(x, data.batch) #output is shape (batch len, embedding len)\n",
    "\n",
    "        #Prediction Step\n",
    "        x= self.linear(x)\n",
    "\n",
    "        return x\n",
    "\n",
    "    def get_embeddings(self, data):\n",
    "        x, adj = data.x, data.edge_index\n",
    "        x = self.conv1(x, adj)\n",
    "        x = self.relu(x)\n",
    "        x = self.conv2(x, adj)\n",
    "        x = self.relu(x)\n",
    "\n",
    "        #No need for global mean pool anymore because that combines all the nodes of a graph\n",
    "        # x = global_mean_pool(x, data.batch)\n",
    "        return x"
   ]
  },
  {
   "cell_type": "code",
   "execution_count": 4,
   "metadata": {},
   "outputs": [
    {
     "ename": "NameError",
     "evalue": "name 'dataset' is not defined",
     "output_type": "error",
     "traceback": [
      "\u001b[0;31m---------------------------------------------------------------------------\u001b[0m",
      "\u001b[0;31mNameError\u001b[0m                                 Traceback (most recent call last)",
      "Cell \u001b[0;32mIn[4], line 2\u001b[0m\n\u001b[1;32m      1\u001b[0m device\u001b[38;5;241m=\u001b[39m \u001b[38;5;124m\"\u001b[39m\u001b[38;5;124mcuda\u001b[39m\u001b[38;5;124m\"\u001b[39m \u001b[38;5;28;01mif\u001b[39;00m torch\u001b[38;5;241m.\u001b[39mcuda\u001b[38;5;241m.\u001b[39mis_available() \u001b[38;5;28;01melse\u001b[39;00m \u001b[38;5;124m\"\u001b[39m\u001b[38;5;124mcpu\u001b[39m\u001b[38;5;124m\"\u001b[39m\n\u001b[0;32m----> 2\u001b[0m gnn \u001b[38;5;241m=\u001b[39mGNN(\u001b[43mdataset\u001b[49m[\u001b[38;5;241m0\u001b[39m]\u001b[38;5;241m.\u001b[39mnum_features, \u001b[38;5;241m16\u001b[39m, \u001b[38;5;241m8\u001b[39m, dataset\u001b[38;5;241m.\u001b[39mnum_classes)\n\u001b[1;32m      3\u001b[0m loss\u001b[38;5;241m=\u001b[39m nn\u001b[38;5;241m.\u001b[39mCrossEntropyLoss()\n\u001b[1;32m      4\u001b[0m optim\u001b[38;5;241m=\u001b[39m torch\u001b[38;5;241m.\u001b[39moptim\u001b[38;5;241m.\u001b[39mAdam(params\u001b[38;5;241m=\u001b[39mgnn\u001b[38;5;241m.\u001b[39mparameters(), lr\u001b[38;5;241m=\u001b[39m\u001b[38;5;241m1e-3\u001b[39m)\n",
      "\u001b[0;31mNameError\u001b[0m: name 'dataset' is not defined"
     ]
    }
   ],
   "source": [
    "device= \"cuda\" if torch.cuda.is_available() else \"cpu\"\n",
    "gnn =GNN(dataset[0].num_features, 16, 8, dataset.num_classes)\n",
    "loss= nn.CrossEntropyLoss()\n",
    "optim= torch.optim.Adam(params=gnn.parameters(), lr=1e-3)"
   ]
  },
  {
   "cell_type": "code",
   "execution_count": 5,
   "metadata": {},
   "outputs": [
    {
     "ename": "NameError",
     "evalue": "name 'train_loader' is not defined",
     "output_type": "error",
     "traceback": [
      "\u001b[0;31m---------------------------------------------------------------------------\u001b[0m",
      "\u001b[0;31mNameError\u001b[0m                                 Traceback (most recent call last)",
      "Cell \u001b[0;32mIn[5], line 6\u001b[0m\n\u001b[1;32m      4\u001b[0m \u001b[38;5;28;01mfor\u001b[39;00m epoch \u001b[38;5;129;01min\u001b[39;00m \u001b[38;5;28mrange\u001b[39m(\u001b[38;5;241m200\u001b[39m):\n\u001b[1;32m      5\u001b[0m     loss_avg\u001b[38;5;241m=\u001b[39m\u001b[38;5;241m0\u001b[39m\n\u001b[0;32m----> 6\u001b[0m     train_batch_len\u001b[38;5;241m=\u001b[39m \u001b[38;5;28mlen\u001b[39m(\u001b[43mtrain_loader\u001b[49m)\n\u001b[1;32m      7\u001b[0m     test_batch_len\u001b[38;5;241m=\u001b[39m \u001b[38;5;28mlen\u001b[39m(test_loader)\n\u001b[1;32m      9\u001b[0m     \u001b[38;5;28;01mfor\u001b[39;00m data \u001b[38;5;129;01min\u001b[39;00m train_loader:\n",
      "\u001b[0;31mNameError\u001b[0m: name 'train_loader' is not defined"
     ]
    }
   ],
   "source": [
    "train_loss=[]\n",
    "test_loss=[]\n",
    "\n",
    "for epoch in range(200):\n",
    "    loss_avg=0\n",
    "    train_batch_len= len(train_loader)\n",
    "    test_batch_len= len(test_loader)\n",
    "\n",
    "    for data in train_loader:\n",
    "        gnn.train()\n",
    "        data=data\n",
    "        pred= gnn(data)\n",
    "        loss_v= loss(pred, data.y)\n",
    "        loss_avg+=loss_v\n",
    "        optim.zero_grad()\n",
    "        loss_v.backward()\n",
    "        optim.step()\n",
    "\n",
    "    test_loss_avg=0\n",
    "    with torch.no_grad():\n",
    "        for data in test_loader:\n",
    "            gnn.eval()\n",
    "            gnn.train()\n",
    "            data=data\n",
    "            pred= gnn(data)\n",
    "            loss_v= loss(pred, data.y)\n",
    "            test_loss_avg+=loss_v\n",
    "\n",
    "    train_loss.append(loss_avg.item()/train_batch_len)\n",
    "    test_loss.append(test_loss_avg.item()/test_batch_len)"
   ]
  },
  {
   "cell_type": "code",
   "execution_count": 124,
   "metadata": {},
   "outputs": [
    {
     "data": {
      "text/plain": [
       "<matplotlib.legend.Legend at 0x1ce958cdf70>"
      ]
     },
     "execution_count": 124,
     "metadata": {},
     "output_type": "execute_result"
    },
    {
     "data": {
      "image/png": "[encoded data removed]",
      "text/plain": [
       "<Figure size 640x480 with 1 Axes>"
      ]
     },
     "metadata": {},
     "output_type": "display_data"
    }
   ],
   "source": [
    "plt.plot(train_loss, label=\"train loss\")\n",
    "plt.plot(test_loss, label=\"test loss\")\n",
    "plt.legend()"
   ]
  },
  {
   "cell_type": "code",
   "execution_count": 125,
   "metadata": {},
   "outputs": [],
   "source": [
    "train_embeddings = []\n",
    "train_features = []\n",
    "for x in train_loader:\n",
    "    out = gnn.get_embeddings(x)\n",
    "    train_embeddings.extend(out)\n",
    "    train_features.extend(x.x)\n",
    "\n",
    "test_embeddings = []\n",
    "test_features = []\n",
    "for x in test_loader:\n",
    "    out = gnn.get_embeddings(x)\n",
    "    test_embeddings.extend(out)\n",
    "    test_features.extend(x.x)\n",
    "\n",
    "element_dict = {0: \"C\", 1: \"N\", 2: \"O\", 3: \"F\", 4: \"I\", 5: \"Cl\", 6: \"Br\"}"
   ]
  },
  {
   "cell_type": "code",
   "execution_count": 126,
   "metadata": {},
   "outputs": [
    {
     "data": {
      "text/plain": [
       "(torch.Size([46, 8]), torch.Size([22, 8]), torch.Size([24, 8]))"
      ]
     },
     "execution_count": 126,
     "metadata": {},
     "output_type": "execute_result"
    }
   ],
   "source": [
    "#considering first node now\n",
    "embeddings1= gnn.get_embeddings(dataset[0])\n",
    "embeddings2= gnn.get_embeddings(dataset[1])\n",
    "ds= torch.vstack([embeddings1, embeddings2])\n",
    "ds.shape, embeddings1.shape, embeddings2.shape"
   ]
  },
  {
   "cell_type": "code",
   "execution_count": 127,
   "metadata": {},
   "outputs": [],
   "source": [
    "#Creating a dataset for test probing\n",
    "#Aim: to see if the GCN layers still convey some information about the element they belong to\n",
    "#Kind of like node classification\n",
    "X_train_probe = torch.vstack([gnn.get_embeddings(x) for x in train_loader])\n",
    "X_test_probe = torch.vstack([gnn.get_embeddings(x) for x in test_loader])\n",
    "\n",
    "y_train_probe_i = torch.vstack([x.x for x in train_loader])\n",
    "y_test_probe_i = torch.vstack([x.x for x in test_loader])\n",
    "\n",
    "y_train_probe = torch.tensor(\n",
    "    [element_dict[val.item()] == \"O\" for val in y_train_probe_i.argmax(dim=1)],\n",
    "    dtype=torch.int32,\n",
    ")\n",
    "y_test_probe = torch.tensor(\n",
    "    [element_dict[val.item()] == \"O\" for val in y_test_probe_i.argmax(dim=1)],\n",
    "    dtype=torch.int32,\n",
    ")"
   ]
  },
  {
   "cell_type": "code",
   "execution_count": 128,
   "metadata": {},
   "outputs": [
    {
     "name": "stderr",
     "output_type": "stream",
     "text": [
      "C:\\Users\\deban\\AppData\\Local\\Temp\\ipykernel_3292\\1442554303.py:7: UserWarning: To copy construct from a tensor, it is recommended to use sourceTensor.clone().detach() or sourceTensor.clone().detach().requires_grad_(True), rather than torch.tensor(sourceTensor).\n",
      "  self.y= torch.tensor(y, dtype=torch.int64).detach()\n"
     ]
    }
   ],
   "source": [
    "from torch.utils.data import Dataset, DataLoader\n",
    "\n",
    "class CustomDataset(Dataset):\n",
    "    def __init__(self, X, y):\n",
    "        super().__init__()\n",
    "        self.X= X.detach()\n",
    "        self.y= torch.tensor(y, dtype=torch.int64).detach()\n",
    "\n",
    "    def __len__(self):\n",
    "        return len(self.X)\n",
    "\n",
    "    def __getitem__(self, index) :\n",
    "        return self.X[index], self.y[index]\n",
    "\n",
    "train_probe_dataset= CustomDataset(X_train_probe, y_train_probe)\n",
    "test_probe_dataset= CustomDataset(X_test_probe, y_test_probe)\n",
    "train_probe_loader= DataLoader(train_probe_dataset, batch_size=16)\n",
    "test_probe_loader= DataLoader(test_probe_dataset, batch_size=16)"
   ]
  },
  {
   "cell_type": "code",
   "execution_count": 129,
   "metadata": {},
   "outputs": [],
   "source": [
    "#train a simple network for classifying the embeddings\n",
    "class Network(nn.Module):\n",
    "    def __init__(self, num_features, num_classes):\n",
    "        super().__init__()\n",
    "        self.network= nn.Sequential(\n",
    "            nn.Linear(num_features, 16),\n",
    "            nn.ReLU(),\n",
    "            nn.Linear(16, 16),\n",
    "            nn.ReLU(),\n",
    "            nn.Linear(16, num_classes)\n",
    "        )\n",
    "\n",
    "    def forward(self, data):\n",
    "        return self.network(data)\n",
    "\n",
    "net= Network(8, 2)\n",
    "loss_probe= nn.CrossEntropyLoss()\n",
    "optim_probe= torch.optim.Adam(net.parameters(), lr=1e-3)\n",
    "num_epoch= 100"
   ]
  },
  {
   "cell_type": "code",
   "execution_count": 130,
   "metadata": {},
   "outputs": [
    {
     "name": "stderr",
     "output_type": "stream",
     "text": [
      "C:\\Users\\deban\\AppData\\Local\\Temp\\ipykernel_3292\\2962653898.py:12: UserWarning: To copy construct from a tensor, it is recommended to use sourceTensor.clone().detach() or sourceTensor.clone().detach().requires_grad_(True), rather than torch.tensor(sourceTensor).\n",
      "  loss_val= loss_probe(y_pred, torch.tensor(y, dtype=torch.int64))\n"
     ]
    }
   ],
   "source": [
    "train_probe_loss=[]\n",
    "test_probe_loss=[]\n",
    "\n",
    "for epoch in range(num_epoch):\n",
    "    train_loss=0\n",
    "    test_loss=0\n",
    "\n",
    "    for X, y in train_probe_loader:\n",
    "        net.train()\n",
    "        optim_probe.zero_grad()\n",
    "        y_pred= net(X)\n",
    "        loss_val= loss_probe(y_pred, torch.tensor(y, dtype=torch.int64))\n",
    "        loss_val.backward()\n",
    "        train_loss+= loss_val\n",
    "        optim_probe.step()\n",
    "\n",
    "    with torch.no_grad():\n",
    "        for X, y in test_probe_loader:\n",
    "            net.eval()\n",
    "            y_pred= net(X)\n",
    "            loss_val= loss_probe(y_pred, y)\n",
    "            test_loss+= loss_val\n",
    "\n",
    "    train_loss/=len(train_probe_loader)\n",
    "    test_loss/=len(test_probe_loader)\n",
    "\n",
    "    train_probe_loss.append(train_loss.item())\n",
    "    test_probe_loss.append(test_loss.item())"
   ]
  },
  {
   "cell_type": "code",
   "execution_count": 131,
   "metadata": {},
   "outputs": [
    {
     "data": {
      "text/plain": [
       "<matplotlib.legend.Legend at 0x1ce9b03aa20>"
      ]
     },
     "execution_count": 131,
     "metadata": {},
     "output_type": "execute_result"
    },
    {
     "data": {
      "image/png": "[encoded data removed]",
      "text/plain": [
       "<Figure size 640x480 with 1 Axes>"
      ]
     },
     "metadata": {},
     "output_type": "display_data"
    }
   ],
   "source": [
    "plt.plot(train_probe_loss, label=\"train probe loss\")\n",
    "plt.plot(test_probe_loss, label=\"test probe loss\")\n",
    "plt.legend()"
   ]
  }
 ],
 "metadata": {
  "kernelspec": {
   "display_name": "Python 3",
   "language": "python",
   "name": "python3"
  },
  "language_info": {
   "codemirror_mode": {
    "name": "ipython",
    "version": 3
   },
   "file_extension": ".py",
   "mimetype": "text/x-python",
   "name": "python",
   "nbconvert_exporter": "python",
   "pygments_lexer": "ipython3",
   "version": "3.10.14"
  }
 },
 "nbformat": 4,
 "nbformat_minor": 2
}
